{
 "cells": [
  {
   "cell_type": "markdown",
   "id": "impaired-limit",
   "metadata": {},
   "source": [
    "# Early stage diabetes risk prediction dataset"
   ]
  },
  {
   "cell_type": "markdown",
   "id": "dutch-bacteria",
   "metadata": {},
   "source": [
    "**Source**<br>\n",
    "1. M. M. Faniqul Islam (Queen Mary University of London, United Kingdom, *m.islam@smd17.qmul.ac.uk*)\n",
    "2. Rahatara Ferdousi(Metropolitan University Sylhet, Bangladesh, *rahatara@metrouni.edu.bd*)\n",
    "3. Sadikur Rahman (Metropolitan University Sylhet, Bangladesh, *rahmansadik004@gmail.com*)\n",
    "4. Humayra Yasmin Bushra (Metropolitan University Sylhet, Bangladesh, *humayrabushra234@gmail.com*)\n",
    "\n",
    "This dataset was taken from the <a href=\"https://archive.ics.uci.edu/ml/datasets/Early+stage+diabetes+risk+prediction+dataset.\">UCI Machine Learning Repository.</a>\n",
    "<br>\n",
    "<br>\n",
    "**Data Set Information**<br>\n",
    "This has been collected using direct questionnaires from the patients of Sylhet Diabetes Hospital in Sylhet, Bangladesh and approved by a doctor.<br>\n",
    "<br>\n",
    "**Attribute Information**\n",
    "- Age: 20-65\n",
    "- Sex: Male, Female\n",
    "- Polyuria: Yes, No.\n",
    "- Polydipsia: Yes, No.\n",
    "- sudden weight loss: Yes, No.\n",
    "- weakness: Yes, No.\n",
    "- Polyphagia: Yes, No.\n",
    "- Genital thrush: Yes, No.\n",
    "- visual blurring: Yes, No.\n",
    "- Itching: Yes, No.\n",
    "- Irritability: Yes, No.\n",
    "- delayed healing: Yes, No.\n",
    "- partial paresis: Yes, No.\n",
    "- muscle stiffness: Yes, No.\n",
    "- Alopecia: Yes, No.\n",
    "- Obesity: Yes, No.\n",
    "- Class: Positive, Negative.\n",
    "<br>\n",
    "<br>\n",
    "**Citation Request**<br>\n",
    "<a href=\"https://link.springer.com/chapter/10.1007/978-981-13-8798-2_12\">Islam, MM Faniqul, et al. 'Likelihood prediction of diabetes at early stage using data mining techniques.' Computer Vision and Machine Intelligence in Medical Image Analysis. Springer, Singapore, 2020. 113-125.</a>\n"
   ]
  },
  {
   "cell_type": "code",
   "execution_count": 84,
   "id": "referenced-north",
   "metadata": {},
   "outputs": [],
   "source": [
    "import numpy as np\n",
    "import pandas as pd\n",
    "pd.set_option('display.max_columns', 100)\n",
    "\n",
    "import matplotlib.pyplot as plt\n",
    "import seaborn as sns\n",
    "sns.set_style('whitegrid')\n",
    "\n",
    "import warnings\n",
    "warnings.filterwarnings('ignore')"
   ]
  },
  {
   "cell_type": "code",
   "execution_count": 128,
   "id": "dependent-laundry",
   "metadata": {},
   "outputs": [],
   "source": [
    "def feature_info(feature_name=None):\n",
    "    features = {'Polyuria': 'Excessive or an abnormally large production or passage of urine (greater than 2.5 L[1] or 3 L[6] over 24 hours in adults)',\n",
    "                'Polydipsia': 'Excessive thirst or excess drinking',\n",
    "                'sudden weight loss': '-',\n",
    "                'weakness': '-',\n",
    "                'visual blurring': 'Ocular symptom where vision becomes less precise and there is added difficulty to resolve fine details',\n",
    "                'delayed healing': '-',\n",
    "                'partial paresis': 'Condition typified by a weakness of voluntary movement, or by partial loss of voluntary movement or by impaired movement',\n",
    "                'muscle stiffness': 'When your muscles feel tight and you find it more difficult to move than you usually do, especially after rest',\n",
    "                'Polyphagia': 'Abnormally strong sensation of hunger or desire to eat often leading to or accompanied by overeating',\n",
    "                'Genital thrush': '(or candidiasis) Common condition caused by a type of yeast called Candida. It mainly affects the vagina, though may affect the penis too, and can be irritating and painful',\n",
    "                'Itching': 'Irritating sensation that makes you want to scratch your skin',\n",
    "                'Irritability': 'Feeling of agitation',\n",
    "                'Alopecia': 'Condition in which hair is lost from some or all areas of the body',\n",
    "                'Obesity': 'Complex disease involving an excessive amount of body fat'}\n",
    "    try:\n",
    "        return features[feature_name]\n",
    "    except:\n",
    "        return print('There is no such a symptom in the list.')"
   ]
  },
  {
   "cell_type": "code",
   "execution_count": 119,
   "id": "pending-fiber",
   "metadata": {},
   "outputs": [],
   "source": [
    "def plot_countplots(feature, hue=None, palette='hls', percentage=False):\n",
    "    if feature != 'Gender':\n",
    "        ax = sns.countplot(x=feature, data=df, hue=hue, palette=palette, alpha=0.8, order=['Yes', 'No'])\n",
    "    else:\n",
    "        ax = sns.countplot(x=feature, data=df, hue=hue, palette=palette, alpha=0.8)\n",
    "    plt.legend(framealpha=0.4)\n",
    "    if hue == None:\n",
    "        ax.legend_.remove()\n",
    "    if percentage:\n",
    "        for p in ax.patches:\n",
    "            ax.annotate(format(p.get_height()/df[feature].shape[0] * 100, '.1f'),\n",
    "                        ((p.get_width()/2 + p.get_x()), p.get_height()),\n",
    "                        va='center', ha='center', xytext=(0, 5),\n",
    "                        textcoords='offset points')"
   ]
  },
  {
   "cell_type": "code",
   "execution_count": 3,
   "id": "classical-accused",
   "metadata": {},
   "outputs": [],
   "source": [
    "df = pd.read_csv('./diabetes_data_upload.csv')"
   ]
  },
  {
   "cell_type": "code",
   "execution_count": 4,
   "id": "informal-frank",
   "metadata": {},
   "outputs": [
    {
     "data": {
      "text/html": [
       "<div>\n",
       "<style scoped>\n",
       "    .dataframe tbody tr th:only-of-type {\n",
       "        vertical-align: middle;\n",
       "    }\n",
       "\n",
       "    .dataframe tbody tr th {\n",
       "        vertical-align: top;\n",
       "    }\n",
       "\n",
       "    .dataframe thead th {\n",
       "        text-align: right;\n",
       "    }\n",
       "</style>\n",
       "<table border=\"1\" class=\"dataframe\">\n",
       "  <thead>\n",
       "    <tr style=\"text-align: right;\">\n",
       "      <th></th>\n",
       "      <th>Age</th>\n",
       "      <th>Gender</th>\n",
       "      <th>Polyuria</th>\n",
       "      <th>Polydipsia</th>\n",
       "      <th>sudden weight loss</th>\n",
       "      <th>weakness</th>\n",
       "      <th>Polyphagia</th>\n",
       "      <th>Genital thrush</th>\n",
       "      <th>visual blurring</th>\n",
       "      <th>Itching</th>\n",
       "      <th>Irritability</th>\n",
       "      <th>delayed healing</th>\n",
       "      <th>partial paresis</th>\n",
       "      <th>muscle stiffness</th>\n",
       "      <th>Alopecia</th>\n",
       "      <th>Obesity</th>\n",
       "      <th>class</th>\n",
       "    </tr>\n",
       "  </thead>\n",
       "  <tbody>\n",
       "    <tr>\n",
       "      <th>0</th>\n",
       "      <td>40</td>\n",
       "      <td>Male</td>\n",
       "      <td>No</td>\n",
       "      <td>Yes</td>\n",
       "      <td>No</td>\n",
       "      <td>Yes</td>\n",
       "      <td>No</td>\n",
       "      <td>No</td>\n",
       "      <td>No</td>\n",
       "      <td>Yes</td>\n",
       "      <td>No</td>\n",
       "      <td>Yes</td>\n",
       "      <td>No</td>\n",
       "      <td>Yes</td>\n",
       "      <td>Yes</td>\n",
       "      <td>Yes</td>\n",
       "      <td>Positive</td>\n",
       "    </tr>\n",
       "    <tr>\n",
       "      <th>1</th>\n",
       "      <td>58</td>\n",
       "      <td>Male</td>\n",
       "      <td>No</td>\n",
       "      <td>No</td>\n",
       "      <td>No</td>\n",
       "      <td>Yes</td>\n",
       "      <td>No</td>\n",
       "      <td>No</td>\n",
       "      <td>Yes</td>\n",
       "      <td>No</td>\n",
       "      <td>No</td>\n",
       "      <td>No</td>\n",
       "      <td>Yes</td>\n",
       "      <td>No</td>\n",
       "      <td>Yes</td>\n",
       "      <td>No</td>\n",
       "      <td>Positive</td>\n",
       "    </tr>\n",
       "    <tr>\n",
       "      <th>2</th>\n",
       "      <td>41</td>\n",
       "      <td>Male</td>\n",
       "      <td>Yes</td>\n",
       "      <td>No</td>\n",
       "      <td>No</td>\n",
       "      <td>Yes</td>\n",
       "      <td>Yes</td>\n",
       "      <td>No</td>\n",
       "      <td>No</td>\n",
       "      <td>Yes</td>\n",
       "      <td>No</td>\n",
       "      <td>Yes</td>\n",
       "      <td>No</td>\n",
       "      <td>Yes</td>\n",
       "      <td>Yes</td>\n",
       "      <td>No</td>\n",
       "      <td>Positive</td>\n",
       "    </tr>\n",
       "    <tr>\n",
       "      <th>3</th>\n",
       "      <td>45</td>\n",
       "      <td>Male</td>\n",
       "      <td>No</td>\n",
       "      <td>No</td>\n",
       "      <td>Yes</td>\n",
       "      <td>Yes</td>\n",
       "      <td>Yes</td>\n",
       "      <td>Yes</td>\n",
       "      <td>No</td>\n",
       "      <td>Yes</td>\n",
       "      <td>No</td>\n",
       "      <td>Yes</td>\n",
       "      <td>No</td>\n",
       "      <td>No</td>\n",
       "      <td>No</td>\n",
       "      <td>No</td>\n",
       "      <td>Positive</td>\n",
       "    </tr>\n",
       "    <tr>\n",
       "      <th>4</th>\n",
       "      <td>60</td>\n",
       "      <td>Male</td>\n",
       "      <td>Yes</td>\n",
       "      <td>Yes</td>\n",
       "      <td>Yes</td>\n",
       "      <td>Yes</td>\n",
       "      <td>Yes</td>\n",
       "      <td>No</td>\n",
       "      <td>Yes</td>\n",
       "      <td>Yes</td>\n",
       "      <td>Yes</td>\n",
       "      <td>Yes</td>\n",
       "      <td>Yes</td>\n",
       "      <td>Yes</td>\n",
       "      <td>Yes</td>\n",
       "      <td>Yes</td>\n",
       "      <td>Positive</td>\n",
       "    </tr>\n",
       "  </tbody>\n",
       "</table>\n",
       "</div>"
      ],
      "text/plain": [
       "   Age Gender Polyuria Polydipsia sudden weight loss weakness Polyphagia  \\\n",
       "0   40   Male       No        Yes                 No      Yes         No   \n",
       "1   58   Male       No         No                 No      Yes         No   \n",
       "2   41   Male      Yes         No                 No      Yes        Yes   \n",
       "3   45   Male       No         No                Yes      Yes        Yes   \n",
       "4   60   Male      Yes        Yes                Yes      Yes        Yes   \n",
       "\n",
       "  Genital thrush visual blurring Itching Irritability delayed healing  \\\n",
       "0             No              No     Yes           No             Yes   \n",
       "1             No             Yes      No           No              No   \n",
       "2             No              No     Yes           No             Yes   \n",
       "3            Yes              No     Yes           No             Yes   \n",
       "4             No             Yes     Yes          Yes             Yes   \n",
       "\n",
       "  partial paresis muscle stiffness Alopecia Obesity     class  \n",
       "0              No              Yes      Yes     Yes  Positive  \n",
       "1             Yes               No      Yes      No  Positive  \n",
       "2              No              Yes      Yes      No  Positive  \n",
       "3              No               No       No      No  Positive  \n",
       "4             Yes              Yes      Yes     Yes  Positive  "
      ]
     },
     "execution_count": 4,
     "metadata": {},
     "output_type": "execute_result"
    }
   ],
   "source": [
    "df.head()"
   ]
  },
  {
   "cell_type": "code",
   "execution_count": 5,
   "id": "unavailable-brazilian",
   "metadata": {},
   "outputs": [
    {
     "name": "stdout",
     "output_type": "stream",
     "text": [
      "<class 'pandas.core.frame.DataFrame'>\n",
      "RangeIndex: 520 entries, 0 to 519\n",
      "Data columns (total 17 columns):\n",
      " #   Column              Non-Null Count  Dtype \n",
      "---  ------              --------------  ----- \n",
      " 0   Age                 520 non-null    int64 \n",
      " 1   Gender              520 non-null    object\n",
      " 2   Polyuria            520 non-null    object\n",
      " 3   Polydipsia          520 non-null    object\n",
      " 4   sudden weight loss  520 non-null    object\n",
      " 5   weakness            520 non-null    object\n",
      " 6   Polyphagia          520 non-null    object\n",
      " 7   Genital thrush      520 non-null    object\n",
      " 8   visual blurring     520 non-null    object\n",
      " 9   Itching             520 non-null    object\n",
      " 10  Irritability        520 non-null    object\n",
      " 11  delayed healing     520 non-null    object\n",
      " 12  partial paresis     520 non-null    object\n",
      " 13  muscle stiffness    520 non-null    object\n",
      " 14  Alopecia            520 non-null    object\n",
      " 15  Obesity             520 non-null    object\n",
      " 16  class               520 non-null    object\n",
      "dtypes: int64(1), object(16)\n",
      "memory usage: 69.2+ KB\n"
     ]
    }
   ],
   "source": [
    "df.info()"
   ]
  },
  {
   "cell_type": "code",
   "execution_count": 6,
   "id": "medical-afghanistan",
   "metadata": {},
   "outputs": [
    {
     "data": {
      "text/html": [
       "<div>\n",
       "<style scoped>\n",
       "    .dataframe tbody tr th:only-of-type {\n",
       "        vertical-align: middle;\n",
       "    }\n",
       "\n",
       "    .dataframe tbody tr th {\n",
       "        vertical-align: top;\n",
       "    }\n",
       "\n",
       "    .dataframe thead th {\n",
       "        text-align: right;\n",
       "    }\n",
       "</style>\n",
       "<table border=\"1\" class=\"dataframe\">\n",
       "  <thead>\n",
       "    <tr style=\"text-align: right;\">\n",
       "      <th></th>\n",
       "      <th>count</th>\n",
       "      <th>mean</th>\n",
       "      <th>std</th>\n",
       "      <th>min</th>\n",
       "      <th>25%</th>\n",
       "      <th>50%</th>\n",
       "      <th>75%</th>\n",
       "      <th>max</th>\n",
       "    </tr>\n",
       "  </thead>\n",
       "  <tbody>\n",
       "    <tr>\n",
       "      <th>Age</th>\n",
       "      <td>520.0</td>\n",
       "      <td>48.028846</td>\n",
       "      <td>12.151466</td>\n",
       "      <td>16.0</td>\n",
       "      <td>39.0</td>\n",
       "      <td>47.5</td>\n",
       "      <td>57.0</td>\n",
       "      <td>90.0</td>\n",
       "    </tr>\n",
       "  </tbody>\n",
       "</table>\n",
       "</div>"
      ],
      "text/plain": [
       "     count       mean        std   min   25%   50%   75%   max\n",
       "Age  520.0  48.028846  12.151466  16.0  39.0  47.5  57.0  90.0"
      ]
     },
     "execution_count": 6,
     "metadata": {},
     "output_type": "execute_result"
    }
   ],
   "source": [
    "df.describe().T"
   ]
  },
  {
   "cell_type": "code",
   "execution_count": 7,
   "id": "recognized-marker",
   "metadata": {},
   "outputs": [
    {
     "data": {
      "text/html": [
       "<div>\n",
       "<style scoped>\n",
       "    .dataframe tbody tr th:only-of-type {\n",
       "        vertical-align: middle;\n",
       "    }\n",
       "\n",
       "    .dataframe tbody tr th {\n",
       "        vertical-align: top;\n",
       "    }\n",
       "\n",
       "    .dataframe thead th {\n",
       "        text-align: right;\n",
       "    }\n",
       "</style>\n",
       "<table border=\"1\" class=\"dataframe\">\n",
       "  <thead>\n",
       "    <tr style=\"text-align: right;\">\n",
       "      <th></th>\n",
       "      <th>count</th>\n",
       "      <th>unique</th>\n",
       "      <th>top</th>\n",
       "      <th>freq</th>\n",
       "    </tr>\n",
       "  </thead>\n",
       "  <tbody>\n",
       "    <tr>\n",
       "      <th>Gender</th>\n",
       "      <td>520</td>\n",
       "      <td>2</td>\n",
       "      <td>Male</td>\n",
       "      <td>328</td>\n",
       "    </tr>\n",
       "    <tr>\n",
       "      <th>Polyuria</th>\n",
       "      <td>520</td>\n",
       "      <td>2</td>\n",
       "      <td>No</td>\n",
       "      <td>262</td>\n",
       "    </tr>\n",
       "    <tr>\n",
       "      <th>Polydipsia</th>\n",
       "      <td>520</td>\n",
       "      <td>2</td>\n",
       "      <td>No</td>\n",
       "      <td>287</td>\n",
       "    </tr>\n",
       "    <tr>\n",
       "      <th>sudden weight loss</th>\n",
       "      <td>520</td>\n",
       "      <td>2</td>\n",
       "      <td>No</td>\n",
       "      <td>303</td>\n",
       "    </tr>\n",
       "    <tr>\n",
       "      <th>weakness</th>\n",
       "      <td>520</td>\n",
       "      <td>2</td>\n",
       "      <td>Yes</td>\n",
       "      <td>305</td>\n",
       "    </tr>\n",
       "    <tr>\n",
       "      <th>Polyphagia</th>\n",
       "      <td>520</td>\n",
       "      <td>2</td>\n",
       "      <td>No</td>\n",
       "      <td>283</td>\n",
       "    </tr>\n",
       "    <tr>\n",
       "      <th>Genital thrush</th>\n",
       "      <td>520</td>\n",
       "      <td>2</td>\n",
       "      <td>No</td>\n",
       "      <td>404</td>\n",
       "    </tr>\n",
       "    <tr>\n",
       "      <th>visual blurring</th>\n",
       "      <td>520</td>\n",
       "      <td>2</td>\n",
       "      <td>No</td>\n",
       "      <td>287</td>\n",
       "    </tr>\n",
       "    <tr>\n",
       "      <th>Itching</th>\n",
       "      <td>520</td>\n",
       "      <td>2</td>\n",
       "      <td>No</td>\n",
       "      <td>267</td>\n",
       "    </tr>\n",
       "    <tr>\n",
       "      <th>Irritability</th>\n",
       "      <td>520</td>\n",
       "      <td>2</td>\n",
       "      <td>No</td>\n",
       "      <td>394</td>\n",
       "    </tr>\n",
       "    <tr>\n",
       "      <th>delayed healing</th>\n",
       "      <td>520</td>\n",
       "      <td>2</td>\n",
       "      <td>No</td>\n",
       "      <td>281</td>\n",
       "    </tr>\n",
       "    <tr>\n",
       "      <th>partial paresis</th>\n",
       "      <td>520</td>\n",
       "      <td>2</td>\n",
       "      <td>No</td>\n",
       "      <td>296</td>\n",
       "    </tr>\n",
       "    <tr>\n",
       "      <th>muscle stiffness</th>\n",
       "      <td>520</td>\n",
       "      <td>2</td>\n",
       "      <td>No</td>\n",
       "      <td>325</td>\n",
       "    </tr>\n",
       "    <tr>\n",
       "      <th>Alopecia</th>\n",
       "      <td>520</td>\n",
       "      <td>2</td>\n",
       "      <td>No</td>\n",
       "      <td>341</td>\n",
       "    </tr>\n",
       "    <tr>\n",
       "      <th>Obesity</th>\n",
       "      <td>520</td>\n",
       "      <td>2</td>\n",
       "      <td>No</td>\n",
       "      <td>432</td>\n",
       "    </tr>\n",
       "    <tr>\n",
       "      <th>class</th>\n",
       "      <td>520</td>\n",
       "      <td>2</td>\n",
       "      <td>Positive</td>\n",
       "      <td>320</td>\n",
       "    </tr>\n",
       "  </tbody>\n",
       "</table>\n",
       "</div>"
      ],
      "text/plain": [
       "                   count unique       top freq\n",
       "Gender               520      2      Male  328\n",
       "Polyuria             520      2        No  262\n",
       "Polydipsia           520      2        No  287\n",
       "sudden weight loss   520      2        No  303\n",
       "weakness             520      2       Yes  305\n",
       "Polyphagia           520      2        No  283\n",
       "Genital thrush       520      2        No  404\n",
       "visual blurring      520      2        No  287\n",
       "Itching              520      2        No  267\n",
       "Irritability         520      2        No  394\n",
       "delayed healing      520      2        No  281\n",
       "partial paresis      520      2        No  296\n",
       "muscle stiffness     520      2        No  325\n",
       "Alopecia             520      2        No  341\n",
       "Obesity              520      2        No  432\n",
       "class                520      2  Positive  320"
      ]
     },
     "execution_count": 7,
     "metadata": {},
     "output_type": "execute_result"
    }
   ],
   "source": [
    "df.describe(include='object').T"
   ]
  },
  {
   "cell_type": "code",
   "execution_count": 8,
   "id": "heated-dylan",
   "metadata": {},
   "outputs": [
    {
     "data": {
      "image/png": "[encoded data removed]",
      "text/plain": [
       "<Figure size 864x288 with 2 Axes>"
      ]
     },
     "metadata": {},
     "output_type": "display_data"
    }
   ],
   "source": [
    "fig, axs = plt.subplots(nrows=1, ncols=2, figsize=(12, 4))\n",
    "sns.histplot(x='Age', data=df, hue='class', palette='hls', alpha=0.4, ax=axs[0], bins=20, kde=True)\n",
    "sns.boxplot(x='Age', y='class', data=df, palette='hls', ax=axs[1])\n",
    "plt.tight_layout()\n",
    "fig.suptitle('Age-Class dependecy', fontweight='bold', y=1.05);"
   ]
  },
  {
   "cell_type": "code",
   "execution_count": 9,
   "id": "boolean-robert",
   "metadata": {},
   "outputs": [
    {
     "data": {
      "text/html": [
       "<div>\n",
       "<style scoped>\n",
       "    .dataframe tbody tr th:only-of-type {\n",
       "        vertical-align: middle;\n",
       "    }\n",
       "\n",
       "    .dataframe tbody tr th {\n",
       "        vertical-align: top;\n",
       "    }\n",
       "\n",
       "    .dataframe thead th {\n",
       "        text-align: right;\n",
       "    }\n",
       "</style>\n",
       "<table border=\"1\" class=\"dataframe\">\n",
       "  <thead>\n",
       "    <tr style=\"text-align: right;\">\n",
       "      <th></th>\n",
       "      <th>count</th>\n",
       "      <th>mean</th>\n",
       "      <th>std</th>\n",
       "      <th>min</th>\n",
       "      <th>25%</th>\n",
       "      <th>50%</th>\n",
       "      <th>75%</th>\n",
       "      <th>max</th>\n",
       "    </tr>\n",
       "    <tr>\n",
       "      <th>class</th>\n",
       "      <th></th>\n",
       "      <th></th>\n",
       "      <th></th>\n",
       "      <th></th>\n",
       "      <th></th>\n",
       "      <th></th>\n",
       "      <th></th>\n",
       "      <th></th>\n",
       "    </tr>\n",
       "  </thead>\n",
       "  <tbody>\n",
       "    <tr>\n",
       "      <th>Negative</th>\n",
       "      <td>200.0</td>\n",
       "      <td>46.360000</td>\n",
       "      <td>12.080983</td>\n",
       "      <td>26.0</td>\n",
       "      <td>37.0</td>\n",
       "      <td>45.0</td>\n",
       "      <td>55.0</td>\n",
       "      <td>72.0</td>\n",
       "    </tr>\n",
       "    <tr>\n",
       "      <th>Positive</th>\n",
       "      <td>320.0</td>\n",
       "      <td>49.071875</td>\n",
       "      <td>12.097481</td>\n",
       "      <td>16.0</td>\n",
       "      <td>39.0</td>\n",
       "      <td>48.0</td>\n",
       "      <td>57.0</td>\n",
       "      <td>90.0</td>\n",
       "    </tr>\n",
       "  </tbody>\n",
       "</table>\n",
       "</div>"
      ],
      "text/plain": [
       "          count       mean        std   min   25%   50%   75%   max\n",
       "class                                                              \n",
       "Negative  200.0  46.360000  12.080983  26.0  37.0  45.0  55.0  72.0\n",
       "Positive  320.0  49.071875  12.097481  16.0  39.0  48.0  57.0  90.0"
      ]
     },
     "execution_count": 9,
     "metadata": {},
     "output_type": "execute_result"
    }
   ],
   "source": [
    "df.groupby('class')['Age'].describe()"
   ]
  },
  {
   "cell_type": "code",
   "execution_count": 10,
   "id": "fiscal-recorder",
   "metadata": {},
   "outputs": [],
   "source": [
    "categ_features = df.drop(['Age', 'class'], axis=1).columns"
   ]
  },
  {
   "cell_type": "code",
   "execution_count": 120,
   "id": "fixed-baking",
   "metadata": {},
   "outputs": [
    {
     "data": {
      "image/png": "[encoded data removed]",
      "text/plain": [
       "<Figure size 1080x864 with 15 Axes>"
      ]
     },
     "metadata": {},
     "output_type": "display_data"
    }
   ],
   "source": [
    "fig = plt.figure(figsize=(15, 12))\n",
    "for num, feature in enumerate(categ_features):\n",
    "    plt.subplot(4, 4, num+1)\n",
    "    plot_countplots(feature, hue='class', percentage=True)\n",
    "    if num == 15:\n",
    "        break\n",
    "plt.tight_layout()"
   ]
  },
  {
   "cell_type": "markdown",
   "id": "deluxe-grave",
   "metadata": {},
   "source": [
    "According to the figures above, person with diabet would have such symptoms and additional diseas: polyuria, polydipsia, polyphagia, sudden weight loss, weakness, vision blurring, muscle stiffnes etc."
   ]
  },
  {
   "cell_type": "code",
   "execution_count": 152,
   "id": "laden-colors",
   "metadata": {},
   "outputs": [],
   "source": [
    "df_copy = df.copy()"
   ]
  },
  {
   "cell_type": "code",
   "execution_count": 187,
   "id": "unlimited-boutique",
   "metadata": {},
   "outputs": [],
   "source": [
    "from sklearn.preprocessing import OneHotEncoder, LabelBinarizer, StandardScaler\n",
    "from sklearn.compose import ColumnTransformer\n",
    "from sklearn.model_selection import train_test_split, cross_val_score\n",
    "from sklearn.metrics import classification_report, confusion_matrix"
   ]
  },
  {
   "cell_type": "code",
   "execution_count": 153,
   "id": "comparable-departure",
   "metadata": {},
   "outputs": [],
   "source": [
    "for feature in df_copy.select_dtypes(include='object').columns:\n",
    "    if feature == 'Gender':\n",
    "        df_copy[feature] = df_copy[feature].map({'Male': 0, 'Female': 1})\n",
    "    elif feature == 'class':\n",
    "        df_copy[feature] = df_copy[feature].map({'Negative': 0, 'Positive': 1})\n",
    "    else:\n",
    "        df_copy[feature] = df_copy[feature].map({'No': 0, 'Yes': 1})"
   ]
  },
  {
   "cell_type": "code",
   "execution_count": 181,
   "id": "pointed-sugar",
   "metadata": {},
   "outputs": [],
   "source": [
    "X_train, X_test, y_train, y_test = train_test_split(df_copy.drop('class', axis=1), df_copy['class'],\n",
    "                                                    test_size=0.2, shuffle=True, stratify=df_copy['class'],\n",
    "                                                    random_state=42)"
   ]
  },
  {
   "cell_type": "code",
   "execution_count": 183,
   "id": "simple-entry",
   "metadata": {},
   "outputs": [],
   "source": [
    "scaler = StandardScaler().fit(X_train['Age'].values.reshape(-1, 1))\n",
    "X_train['Age'] = scaler.transform(X_train['Age'].values.reshape(-1, 1))\n",
    "X_test['Age'] = scaler.transform(X_test['Age'].values.reshape(-1, 1))"
   ]
  },
  {
   "cell_type": "code",
   "execution_count": 191,
   "id": "massive-tampa",
   "metadata": {},
   "outputs": [],
   "source": [
    "def print_stat(y_test, pred):\n",
    "    print(classification_report(y_test, pred))\n",
    "    print(confusion_matrix(y_test, pred))"
   ]
  },
  {
   "cell_type": "code",
   "execution_count": 193,
   "id": "regional-coordinator",
   "metadata": {},
   "outputs": [],
   "source": [
    "from sklearn.linear_model import LogisticRegression\n",
    "from sklearn.svm import SVC\n",
    "from sklearn.tree import DecisionTreeClassifier\n",
    "from sklearn.ensemble import RandomForestClassifier\n",
    "from sklearn.neighbors import KNeighborsClassifier"
   ]
  },
  {
   "cell_type": "code",
   "execution_count": 194,
   "id": "political-atmosphere",
   "metadata": {},
   "outputs": [
    {
     "name": "stdout",
     "output_type": "stream",
     "text": [
      "              precision    recall  f1-score   support\n",
      "\n",
      "           0       0.89      0.97      0.93        40\n",
      "           1       0.98      0.92      0.95        64\n",
      "\n",
      "    accuracy                           0.94       104\n",
      "   macro avg       0.93      0.95      0.94       104\n",
      "weighted avg       0.95      0.94      0.94       104\n",
      "\n",
      "[[39  1]\n",
      " [ 5 59]]\n"
     ]
    }
   ],
   "source": [
    "logit = LogisticRegression()\n",
    "logit.fit(X_train, y_train)\n",
    "pred_logit = logit.predict(X_test)\n",
    "print_stat(y_test, pred_logit)"
   ]
  },
  {
   "cell_type": "code",
   "execution_count": 195,
   "id": "african-immigration",
   "metadata": {},
   "outputs": [
    {
     "name": "stdout",
     "output_type": "stream",
     "text": [
      "              precision    recall  f1-score   support\n",
      "\n",
      "           0       1.00      0.97      0.99        40\n",
      "           1       0.98      1.00      0.99        64\n",
      "\n",
      "    accuracy                           0.99       104\n",
      "   macro avg       0.99      0.99      0.99       104\n",
      "weighted avg       0.99      0.99      0.99       104\n",
      "\n",
      "[[39  1]\n",
      " [ 0 64]]\n"
     ]
    }
   ],
   "source": [
    "svc = SVC()\n",
    "svc.fit(X_train, y_train)\n",
    "pred_svc = svc.predict(X_test)\n",
    "print_stat(y_test, pred_svc)"
   ]
  },
  {
   "cell_type": "code",
   "execution_count": 210,
   "id": "going-liverpool",
   "metadata": {},
   "outputs": [
    {
     "name": "stdout",
     "output_type": "stream",
     "text": [
      "              precision    recall  f1-score   support\n",
      "\n",
      "           0       0.95      1.00      0.98        40\n",
      "           1       1.00      0.97      0.98        64\n",
      "\n",
      "    accuracy                           0.98       104\n",
      "   macro avg       0.98      0.98      0.98       104\n",
      "weighted avg       0.98      0.98      0.98       104\n",
      "\n",
      "[[40  0]\n",
      " [ 2 62]]\n"
     ]
    }
   ],
   "source": [
    "tree = DecisionTreeClassifier(max_depth=15)\n",
    "tree.fit(X_train, y_train)\n",
    "pred_tree = tree.predict(X_test)\n",
    "print_stat(y_test, pred_tree)"
   ]
  },
  {
   "cell_type": "code",
   "execution_count": 199,
   "id": "alpha-upgrade",
   "metadata": {},
   "outputs": [
    {
     "name": "stdout",
     "output_type": "stream",
     "text": [
      "              precision    recall  f1-score   support\n",
      "\n",
      "           0       1.00      0.97      0.99        40\n",
      "           1       0.98      1.00      0.99        64\n",
      "\n",
      "    accuracy                           0.99       104\n",
      "   macro avg       0.99      0.99      0.99       104\n",
      "weighted avg       0.99      0.99      0.99       104\n",
      "\n",
      "[[39  1]\n",
      " [ 0 64]]\n"
     ]
    }
   ],
   "source": [
    "forest = RandomForestClassifier(n_estimators=200)\n",
    "forest.fit(X_train, y_train)\n",
    "pred_forest = forest.predict(X_test)\n",
    "print_stat(y_test, pred_forest)"
   ]
  },
  {
   "cell_type": "code",
   "execution_count": null,
   "id": "integrated-chain",
   "metadata": {},
   "outputs": [],
   "source": []
  }
 ],
 "metadata": {
  "kernelspec": {
   "display_name": "Python 3",
   "language": "python",
   "name": "python3"
  },
  "language_info": {
   "codemirror_mode": {
    "name": "ipython",
    "version": 3
   },
   "file_extension": ".py",
   "mimetype": "text/x-python",
   "name": "python",
   "nbconvert_exporter": "python",
   "pygments_lexer": "ipython3",
   "version": "3.8.5"
  }
 },
 "nbformat": 4,
 "nbformat_minor": 5
}
