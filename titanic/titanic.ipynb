{
 "cells": [
  {
   "cell_type": "markdown",
   "id": "likely-tutorial",
   "metadata": {},
   "source": [
    "# Titanic dataset"
   ]
  },
  {
   "cell_type": "markdown",
   "id": "average-crossing",
   "metadata": {},
   "source": [
    "Here I'd like to analyse classical Titanic dataset (https://www.kaggle.com/c/titanic). Using this dataset as an example, I'd like to test some ML algorithms for binary classification.\n",
    "\n",
    "The **task** of this Kaggle competition is to create an algorithm to predict using the data from dataset whether some passenger survive or not in Titanic disaster. **Dataset** consists of two parts: train.csv (dataset to train the model) and test.csv (to test perfomance of model by submission in Kaggle). According to rules of competition, perfomance of model should be assessed using accuracy metric. "
   ]
  },
  {
   "cell_type": "code",
   "execution_count": 1,
   "id": "hearing-saver",
   "metadata": {},
   "outputs": [],
   "source": [
    "import warnings\n",
    "warnings.filterwarnings('ignore')\n",
    "\n",
    "import numpy as np\n",
    "import pandas as pd\n",
    "\n",
    "import matplotlib.pyplot as plt\n",
    "import seaborn as sns\n",
    "sns.set_style('whitegrid')"
   ]
  },
  {
   "cell_type": "code",
   "execution_count": 224,
   "id": "outer-constant",
   "metadata": {},
   "outputs": [],
   "source": [
    "from sklearn.model_selection import cross_val_score, cross_val_predict, GridSearchCV\n",
    "from sklearn.metrics import accuracy_score\n",
    "from sklearn.linear_model import LogisticRegression, SGDClassifier\n",
    "from sklearn.svm import SVC\n",
    "from sklearn.tree import DecisionTreeClassifier\n",
    "from sklearn.ensemble import RandomForestClassifier, VotingClassifier, GradientBoostingClassifier, BaggingClassifier, ExtraTreesClassifier\n",
    "from sklearn.decomposition import PCA\n",
    "from sklearn.neighbors import KNeighborsClassifier"
   ]
  },
  {
   "cell_type": "code",
   "execution_count": 3,
   "id": "durable-substance",
   "metadata": {},
   "outputs": [],
   "source": [
    "from sklearn.base import BaseEstimator, TransformerMixin"
   ]
  },
  {
   "cell_type": "code",
   "execution_count": 4,
   "id": "rural-tuning",
   "metadata": {},
   "outputs": [],
   "source": [
    "from sklearn.impute import SimpleImputer\n",
    "from sklearn.compose import ColumnTransformer\n",
    "from sklearn.preprocessing import OneHotEncoder\n",
    "from sklearn.preprocessing import StandardScaler\n",
    "from sklearn.pipeline import Pipeline"
   ]
  },
  {
   "cell_type": "code",
   "execution_count": 118,
   "id": "above-circumstances",
   "metadata": {},
   "outputs": [],
   "source": [
    "import pickle"
   ]
  },
  {
   "cell_type": "code",
   "execution_count": 220,
   "id": "wound-spanish",
   "metadata": {},
   "outputs": [],
   "source": [
    "def save_solution(df, targets, sol_num=0):\n",
    "    \"\"\"\n",
    "    Save soulution (two columns: PassengerId and Survived) to the csv file.\n",
    "    \n",
    "    Parameters:\n",
    "        df:\n",
    "            Dataframe with test data\n",
    "        \n",
    "        targets:\n",
    "            Labels that were predicted by classifier.\n",
    "        \n",
    "        sol_num: default = 0\n",
    "            Number of solution. This one is using in csv file name as a postfix.\n",
    "    \"\"\"\n",
    "    \n",
    "    df['Survived'] = targets\n",
    "    df.to_csv(f'./titanic_{sol_num}.csv', sep=',', columns=['PassengerId', 'Survived'], index=False)\n",
    "    df.drop('Survived', axis=1, inplace=True)"
   ]
  },
  {
   "cell_type": "code",
   "execution_count": 6,
   "id": "loving-second",
   "metadata": {},
   "outputs": [],
   "source": [
    "titanic = pd.read_csv('./train.csv')\n",
    "\n",
    "X = titanic.drop('Survived', axis=1).copy()\n",
    "y = titanic['Survived'].copy()"
   ]
  },
  {
   "cell_type": "markdown",
   "id": "velvet-approval",
   "metadata": {},
   "source": [
    "## Exploratory Data Analysis"
   ]
  },
  {
   "cell_type": "code",
   "execution_count": 7,
   "id": "amateur-niger",
   "metadata": {},
   "outputs": [
    {
     "data": {
      "text/html": [
       "<div>\n",
       "<style scoped>\n",
       "    .dataframe tbody tr th:only-of-type {\n",
       "        vertical-align: middle;\n",
       "    }\n",
       "\n",
       "    .dataframe tbody tr th {\n",
       "        vertical-align: top;\n",
       "    }\n",
       "\n",
       "    .dataframe thead th {\n",
       "        text-align: right;\n",
       "    }\n",
       "</style>\n",
       "<table border=\"1\" class=\"dataframe\">\n",
       "  <thead>\n",
       "    <tr style=\"text-align: right;\">\n",
       "      <th></th>\n",
       "      <th>PassengerId</th>\n",
       "      <th>Survived</th>\n",
       "      <th>Pclass</th>\n",
       "      <th>Name</th>\n",
       "      <th>Sex</th>\n",
       "      <th>Age</th>\n",
       "      <th>SibSp</th>\n",
       "      <th>Parch</th>\n",
       "      <th>Ticket</th>\n",
       "      <th>Fare</th>\n",
       "      <th>Cabin</th>\n",
       "      <th>Embarked</th>\n",
       "    </tr>\n",
       "  </thead>\n",
       "  <tbody>\n",
       "    <tr>\n",
       "      <th>0</th>\n",
       "      <td>1</td>\n",
       "      <td>0</td>\n",
       "      <td>3</td>\n",
       "      <td>Braund, Mr. Owen Harris</td>\n",
       "      <td>male</td>\n",
       "      <td>22.0</td>\n",
       "      <td>1</td>\n",
       "      <td>0</td>\n",
       "      <td>A/5 21171</td>\n",
       "      <td>7.2500</td>\n",
       "      <td>NaN</td>\n",
       "      <td>S</td>\n",
       "    </tr>\n",
       "    <tr>\n",
       "      <th>1</th>\n",
       "      <td>2</td>\n",
       "      <td>1</td>\n",
       "      <td>1</td>\n",
       "      <td>Cumings, Mrs. John Bradley (Florence Briggs Th...</td>\n",
       "      <td>female</td>\n",
       "      <td>38.0</td>\n",
       "      <td>1</td>\n",
       "      <td>0</td>\n",
       "      <td>PC 17599</td>\n",
       "      <td>71.2833</td>\n",
       "      <td>C85</td>\n",
       "      <td>C</td>\n",
       "    </tr>\n",
       "    <tr>\n",
       "      <th>2</th>\n",
       "      <td>3</td>\n",
       "      <td>1</td>\n",
       "      <td>3</td>\n",
       "      <td>Heikkinen, Miss. Laina</td>\n",
       "      <td>female</td>\n",
       "      <td>26.0</td>\n",
       "      <td>0</td>\n",
       "      <td>0</td>\n",
       "      <td>STON/O2. 3101282</td>\n",
       "      <td>7.9250</td>\n",
       "      <td>NaN</td>\n",
       "      <td>S</td>\n",
       "    </tr>\n",
       "    <tr>\n",
       "      <th>3</th>\n",
       "      <td>4</td>\n",
       "      <td>1</td>\n",
       "      <td>1</td>\n",
       "      <td>Futrelle, Mrs. Jacques Heath (Lily May Peel)</td>\n",
       "      <td>female</td>\n",
       "      <td>35.0</td>\n",
       "      <td>1</td>\n",
       "      <td>0</td>\n",
       "      <td>113803</td>\n",
       "      <td>53.1000</td>\n",
       "      <td>C123</td>\n",
       "      <td>S</td>\n",
       "    </tr>\n",
       "    <tr>\n",
       "      <th>4</th>\n",
       "      <td>5</td>\n",
       "      <td>0</td>\n",
       "      <td>3</td>\n",
       "      <td>Allen, Mr. William Henry</td>\n",
       "      <td>male</td>\n",
       "      <td>35.0</td>\n",
       "      <td>0</td>\n",
       "      <td>0</td>\n",
       "      <td>373450</td>\n",
       "      <td>8.0500</td>\n",
       "      <td>NaN</td>\n",
       "      <td>S</td>\n",
       "    </tr>\n",
       "  </tbody>\n",
       "</table>\n",
       "</div>"
      ],
      "text/plain": [
       "   PassengerId  Survived  Pclass  \\\n",
       "0            1         0       3   \n",
       "1            2         1       1   \n",
       "2            3         1       3   \n",
       "3            4         1       1   \n",
       "4            5         0       3   \n",
       "\n",
       "                                                Name     Sex   Age  SibSp  \\\n",
       "0                            Braund, Mr. Owen Harris    male  22.0      1   \n",
       "1  Cumings, Mrs. John Bradley (Florence Briggs Th...  female  38.0      1   \n",
       "2                             Heikkinen, Miss. Laina  female  26.0      0   \n",
       "3       Futrelle, Mrs. Jacques Heath (Lily May Peel)  female  35.0      1   \n",
       "4                           Allen, Mr. William Henry    male  35.0      0   \n",
       "\n",
       "   Parch            Ticket     Fare Cabin Embarked  \n",
       "0      0         A/5 21171   7.2500   NaN        S  \n",
       "1      0          PC 17599  71.2833   C85        C  \n",
       "2      0  STON/O2. 3101282   7.9250   NaN        S  \n",
       "3      0            113803  53.1000  C123        S  \n",
       "4      0            373450   8.0500   NaN        S  "
      ]
     },
     "execution_count": 7,
     "metadata": {},
     "output_type": "execute_result"
    }
   ],
   "source": [
    "titanic.head()"
   ]
  },
  {
   "cell_type": "code",
   "execution_count": 8,
   "id": "contrary-eagle",
   "metadata": {},
   "outputs": [
    {
     "data": {
      "image/png": "[encoded data removed]",
      "text/plain": [
       "<Figure size 432x288 with 1 Axes>"
      ]
     },
     "metadata": {},
     "output_type": "display_data"
    }
   ],
   "source": [
    "sns.countplot(x='Survived', data=titanic)\n",
    "plt.title('Amount of survived (1) and not-survived (0) passengers', fontsize=10, fontweight='bold');"
   ]
  },
  {
   "cell_type": "code",
   "execution_count": 9,
   "id": "continuous-liquid",
   "metadata": {},
   "outputs": [
    {
     "data": {
      "image/png": "[encoded data removed]",
      "text/plain": [
       "<Figure size 432x288 with 1 Axes>"
      ]
     },
     "metadata": {},
     "output_type": "display_data"
    }
   ],
   "source": [
    "sns.countplot(x='Survived', data=titanic, hue='Sex')\n",
    "plt.title('Amount of survived (1) and not-survived (0) passengers by sex', fontsize=10, fontweight='bold');"
   ]
  },
  {
   "cell_type": "code",
   "execution_count": 10,
   "id": "legislative-hanging",
   "metadata": {},
   "outputs": [
    {
     "data": {
      "text/html": [
       "<div>\n",
       "<style scoped>\n",
       "    .dataframe tbody tr th:only-of-type {\n",
       "        vertical-align: middle;\n",
       "    }\n",
       "\n",
       "    .dataframe tbody tr th {\n",
       "        vertical-align: top;\n",
       "    }\n",
       "\n",
       "    .dataframe thead th {\n",
       "        text-align: right;\n",
       "    }\n",
       "</style>\n",
       "<table border=\"1\" class=\"dataframe\">\n",
       "  <thead>\n",
       "    <tr style=\"text-align: right;\">\n",
       "      <th>Survived</th>\n",
       "      <th>0</th>\n",
       "      <th>1</th>\n",
       "    </tr>\n",
       "    <tr>\n",
       "      <th>Sex</th>\n",
       "      <th></th>\n",
       "      <th></th>\n",
       "    </tr>\n",
       "  </thead>\n",
       "  <tbody>\n",
       "    <tr>\n",
       "      <th>female</th>\n",
       "      <td>81</td>\n",
       "      <td>233</td>\n",
       "    </tr>\n",
       "    <tr>\n",
       "      <th>male</th>\n",
       "      <td>468</td>\n",
       "      <td>109</td>\n",
       "    </tr>\n",
       "  </tbody>\n",
       "</table>\n",
       "</div>"
      ],
      "text/plain": [
       "Survived    0    1\n",
       "Sex               \n",
       "female     81  233\n",
       "male      468  109"
      ]
     },
     "execution_count": 10,
     "metadata": {},
     "output_type": "execute_result"
    }
   ],
   "source": [
    "pd.crosstab(titanic['Sex'], titanic['Survived'])"
   ]
  },
  {
   "cell_type": "code",
   "execution_count": 11,
   "id": "great-clock",
   "metadata": {},
   "outputs": [
    {
     "data": {
      "image/png": "[encoded data removed]",
      "text/plain": [
       "<Figure size 720x288 with 1 Axes>"
      ]
     },
     "metadata": {},
     "output_type": "display_data"
    }
   ],
   "source": [
    "plt.figure(figsize=(10, 4))\n",
    "sns.histplot(x='Age', data=titanic, hue='Survived', bins=30)\n",
    "plt.title('Distribution of Ages', fontsize=10, fontweight='bold');"
   ]
  },
  {
   "cell_type": "code",
   "execution_count": 12,
   "id": "local-hollow",
   "metadata": {},
   "outputs": [
    {
     "data": {
      "image/png": "[encoded data removed]",
      "text/plain": [
       "<Figure size 432x288 with 1 Axes>"
      ]
     },
     "metadata": {},
     "output_type": "display_data"
    }
   ],
   "source": [
    "sns.boxplot(x='Age', y='Survived', data=titanic, orient='h', hue='Sex')\n",
    "plt.title('Age vs Survived boxplots by sex', fontsize=10, fontweight='bold');"
   ]
  },
  {
   "cell_type": "code",
   "execution_count": 13,
   "id": "dynamic-classics",
   "metadata": {},
   "outputs": [
    {
     "data": {
      "image/png": "[encoded data removed]",
      "text/plain": [
       "<Figure size 432x288 with 1 Axes>"
      ]
     },
     "metadata": {},
     "output_type": "display_data"
    }
   ],
   "source": [
    "sns.countplot(x='Survived', data=titanic, hue='Pclass')\n",
    "plt.title('Survived - not-survived by class', fontsize=10, fontweight='bold');"
   ]
  },
  {
   "cell_type": "code",
   "execution_count": 14,
   "id": "unusual-university",
   "metadata": {},
   "outputs": [
    {
     "data": {
      "text/html": [
       "<div>\n",
       "<style scoped>\n",
       "    .dataframe tbody tr th:only-of-type {\n",
       "        vertical-align: middle;\n",
       "    }\n",
       "\n",
       "    .dataframe tbody tr th {\n",
       "        vertical-align: top;\n",
       "    }\n",
       "\n",
       "    .dataframe thead th {\n",
       "        text-align: right;\n",
       "    }\n",
       "</style>\n",
       "<table border=\"1\" class=\"dataframe\">\n",
       "  <thead>\n",
       "    <tr style=\"text-align: right;\">\n",
       "      <th>Pclass</th>\n",
       "      <th>1</th>\n",
       "      <th>2</th>\n",
       "      <th>3</th>\n",
       "    </tr>\n",
       "    <tr>\n",
       "      <th>Sex</th>\n",
       "      <th></th>\n",
       "      <th></th>\n",
       "      <th></th>\n",
       "    </tr>\n",
       "  </thead>\n",
       "  <tbody>\n",
       "    <tr>\n",
       "      <th>female</th>\n",
       "      <td>94</td>\n",
       "      <td>76</td>\n",
       "      <td>144</td>\n",
       "    </tr>\n",
       "    <tr>\n",
       "      <th>male</th>\n",
       "      <td>122</td>\n",
       "      <td>108</td>\n",
       "      <td>347</td>\n",
       "    </tr>\n",
       "  </tbody>\n",
       "</table>\n",
       "</div>"
      ],
      "text/plain": [
       "Pclass    1    2    3\n",
       "Sex                  \n",
       "female   94   76  144\n",
       "male    122  108  347"
      ]
     },
     "execution_count": 14,
     "metadata": {},
     "output_type": "execute_result"
    }
   ],
   "source": [
    "pd.crosstab(titanic['Sex'], titanic['Pclass'])"
   ]
  },
  {
   "cell_type": "markdown",
   "id": "personalized-gregory",
   "metadata": {},
   "source": [
    "## Feature engineering"
   ]
  },
  {
   "cell_type": "code",
   "execution_count": 15,
   "id": "former-freedom",
   "metadata": {},
   "outputs": [],
   "source": [
    "class TransformDF(BaseEstimator, TransformerMixin):\n",
    "    \"\"\"\n",
    "    Applies transformation on initial database. Class has no parameters.\n",
    "    This class allows to fill missing values in Age and Embarked features.\n",
    "    \n",
    "    Age filles by mean age of certain age group. For this purpose mean ages are\n",
    "    calculated using Mr/Ms/Miss words from passengers names. If there are no such \n",
    "    words in passenger name, mean age of all passengers is used.\n",
    "    Embarked feature is filled by most frequent value.\n",
    "    \n",
    "    Methods\n",
    "        Methods of this class are similar to methods of usual sklearn transformer.\n",
    "        \n",
    "        fit:\n",
    "            Fits initial database\n",
    "            \n",
    "        transform:\n",
    "            Transform initial database\n",
    "        \n",
    "        fit_transform:\n",
    "            Combination of fit and transform\n",
    "            \n",
    "    Return\n",
    "        Formatted dataset with Age, Pclass, SibSp, Parch and Embarked columns.\n",
    "    \"\"\"\n",
    "    def __init__(self):\n",
    "        pass\n",
    "    \n",
    "    def __convert_string_to_list(self, string):\n",
    "        \"\"\"\n",
    "        Hidden method. Converts string name literal to the list of words.\n",
    "        \"\"\"\n",
    "        return string.lower().replace('.', '').replace(',', '').split(' ')\n",
    "    \n",
    "    def __fillna_age_in_name(self, df):\n",
    "        \"\"\"\n",
    "        Hidden method. Fills NaN values by mean age of certain age groups.\n",
    "        \"\"\"\n",
    "        df['Name_list'] = df['Name'].apply(self.__convert_string_to_list)\n",
    "        mean_age_mr = df[df['Name_list'].apply(lambda row: 'mr' in row)]['Age'].mean()\n",
    "        mean_age_mrs = df[df['Name_list'].apply(lambda row: 'mrs' in row)]['Age'].mean()\n",
    "        mean_age_miss = df[df['Name_list'].apply(lambda row: 'miss' in row)]['Age'].mean()\n",
    "        mean_age = df['Age'].mean()\n",
    "        \n",
    "        for ind in df[df['Age'].isna()].index:\n",
    "            person = df.iloc[ind, :]\n",
    "            if 'mr' in person['Name_list']:\n",
    "                df.loc[ind, 'Age'] = mean_age_mr\n",
    "            elif 'mrs' in person['Name_list']:\n",
    "                df.loc[ind, 'Age'] = mean_age_mrs\n",
    "            elif 'miss' in person['Name_list']:\n",
    "                df.loc[ind, 'Age'] = mean_age_miss\n",
    "            else:\n",
    "                df.loc[ind, 'Age'] = mean_age\n",
    "                \n",
    "    def fit(self, X, y=None):\n",
    "        return self\n",
    "    \n",
    "    def transform(self, X, y=None):\n",
    "        df = X.copy()\n",
    "        df.drop(['PassengerId', 'Cabin'], axis=1, inplace=True)\n",
    "        self.__fillna_age_in_name(df)\n",
    "        df['Embarked'] = SimpleImputer(missing_values=np.nan, strategy='most_frequent').fit_transform(df['Embarked'].values.reshape(-1, 1))\n",
    "#         df['Fare'] = SimpleImputer(missing_values=np.nan, strategy='median').fit_transform(df['Fare'].values.reshape(-1, 1))\n",
    "        return df.drop(['Ticket', 'Name_list', 'Name', 'Fare'], axis=1)"
   ]
  },
  {
   "cell_type": "markdown",
   "id": "appointed-spanish",
   "metadata": {},
   "source": [
    "class AddPCA(BaseEstimator, TransformerMixin):\n",
    "    def __init__(self):\n",
    "        pass\n",
    "    def fit(self, X, y=None):\n",
    "        return self\n",
    "    def transform(self, X, y=None):\n",
    "        pca = PCA(n_components=3)\n",
    "        X_pca = pca.fit_transform(X)\n",
    "        return np.c_[X, X_pca]"
   ]
  },
  {
   "cell_type": "code",
   "execution_count": 16,
   "id": "seeing-underground",
   "metadata": {},
   "outputs": [],
   "source": [
    "column_transformer = ColumnTransformer(transformers=[('scaler', StandardScaler(), [2, 3, 4]),  # 5 - Fare\n",
    "                                                     ('encoder', OneHotEncoder(), [0, 1, -1])],\n",
    "                                       remainder='passthrough')"
   ]
  },
  {
   "cell_type": "code",
   "execution_count": 17,
   "id": "undefined-greek",
   "metadata": {},
   "outputs": [],
   "source": [
    "pipeline = Pipeline([('transf1', TransformDF()),\n",
    "                     ('col_tr', column_transformer)])"
   ]
  },
  {
   "cell_type": "code",
   "execution_count": 18,
   "id": "present-experiment",
   "metadata": {},
   "outputs": [],
   "source": [
    "pipeline.fit(X)\n",
    "X_tr = pipeline.transform(X)"
   ]
  },
  {
   "cell_type": "code",
   "execution_count": 131,
   "id": "bulgarian-clause",
   "metadata": {},
   "outputs": [],
   "source": [
    "X_test = pd.read_csv('./test.csv')\n",
    "X_test_tr = pipeline.transform(X_test)"
   ]
  },
  {
   "cell_type": "markdown",
   "id": "extended-popularity",
   "metadata": {},
   "source": [
    "## Modelling"
   ]
  },
  {
   "cell_type": "markdown",
   "id": "sustainable-union",
   "metadata": {},
   "source": [
    "### Out-of-box algorithms assessment"
   ]
  },
  {
   "cell_type": "code",
   "execution_count": 91,
   "id": "loved-matthew",
   "metadata": {},
   "outputs": [
    {
     "data": {
      "text/plain": [
       "0.7890011223344556"
      ]
     },
     "execution_count": 91,
     "metadata": {},
     "output_type": "execute_result"
    }
   ],
   "source": [
    "logit = LogisticRegression(random_state=42)\n",
    "cross_val_score(logit, X_tr, y, cv=3, scoring='accuracy', n_jobs=-1).mean()"
   ]
  },
  {
   "cell_type": "code",
   "execution_count": 92,
   "id": "micro-cricket",
   "metadata": {},
   "outputs": [
    {
     "data": {
      "text/plain": [
       "0.7508417508417509"
      ]
     },
     "execution_count": 92,
     "metadata": {},
     "output_type": "execute_result"
    }
   ],
   "source": [
    "sgd = SGDClassifier(random_state=42)\n",
    "cross_val_score(sgd, X_tr, y, cv=3, scoring='accuracy', n_jobs=-1).mean()"
   ]
  },
  {
   "cell_type": "code",
   "execution_count": 93,
   "id": "wrapped-weather",
   "metadata": {},
   "outputs": [
    {
     "data": {
      "text/plain": [
       "0.8294051627384961"
      ]
     },
     "execution_count": 93,
     "metadata": {},
     "output_type": "execute_result"
    }
   ],
   "source": [
    "svc = SVC(random_state=42, probability=True)\n",
    "cross_val_scorea(svc, X_tr, y, cv=3, scoring='accuracy', n_jobs=-1).mean()"
   ]
  },
  {
   "cell_type": "code",
   "execution_count": 94,
   "id": "outdoor-thinking",
   "metadata": {},
   "outputs": [
    {
     "data": {
      "text/plain": [
       "0.7755331088664423"
      ]
     },
     "execution_count": 94,
     "metadata": {},
     "output_type": "execute_result"
    }
   ],
   "source": [
    "tree = DecisionTreeClassifier(random_state=42)\n",
    "cross_val_score(tree, X_tr, y, cv=3, scoring='accuracy', n_jobs=-1).mean()"
   ]
  },
  {
   "cell_type": "code",
   "execution_count": 95,
   "id": "successful-queen",
   "metadata": {},
   "outputs": [
    {
     "data": {
      "text/plain": [
       "0.7856341189674523"
      ]
     },
     "execution_count": 95,
     "metadata": {},
     "output_type": "execute_result"
    }
   ],
   "source": [
    "forest = RandomForestClassifier(random_state=42)\n",
    "cross_val_score(forest, X_tr, y, cv=3, scoring='accuracy', n_jobs=-1).mean()"
   ]
  },
  {
   "cell_type": "code",
   "execution_count": 136,
   "id": "sapphire-duncan",
   "metadata": {},
   "outputs": [
    {
     "data": {
      "text/plain": [
       "0.8002244668911335"
      ]
     },
     "execution_count": 136,
     "metadata": {},
     "output_type": "execute_result"
    }
   ],
   "source": [
    "knn = KNeighborsClassifier()\n",
    "cross_val_score(knn, X_tr, y, cv=3, scoring='accuracy', n_jobs=-1).mean()"
   ]
  },
  {
   "cell_type": "code",
   "execution_count": 160,
   "id": "intellectual-image",
   "metadata": {},
   "outputs": [
    {
     "data": {
      "text/plain": [
       "0.8148148148148149"
      ]
     },
     "execution_count": 160,
     "metadata": {},
     "output_type": "execute_result"
    }
   ],
   "source": [
    "grbc = GradientBoostingClassifier()\n",
    "cross_val_score(grbc, X_tr, y, cv=3, scoring='accuracy', n_jobs=-1).mean()"
   ]
  },
  {
   "cell_type": "code",
   "execution_count": 225,
   "id": "confirmed-overview",
   "metadata": {},
   "outputs": [
    {
     "data": {
      "text/plain": [
       "0.7620650953984286"
      ]
     },
     "execution_count": 225,
     "metadata": {},
     "output_type": "execute_result"
    }
   ],
   "source": [
    "extra_tree = ExtraTreesClassifier()\n",
    "cross_val_score(extra_tree, X_tr, y, cv=3, scoring='accuracy', n_jobs=-1).mean()"
   ]
  },
  {
   "cell_type": "code",
   "execution_count": 167,
   "id": "automatic-dividend",
   "metadata": {},
   "outputs": [
    {
     "name": "stdout",
     "output_type": "stream",
     "text": [
      "LogisticRegression: 0.7934904601571268\n",
      "SGDClassifier: 0.7991021324354658\n",
      "SVC: 0.8271604938271605\n",
      "DecisionTreeClassifier: 0.7856341189674523\n",
      "RandomForestClassifier: 0.7957351290684623\n",
      "KNeighborsClassifier: 0.7923681257014591\n",
      "GradientBoostingClassifier: 0.8226711560044894\n"
     ]
    }
   ],
   "source": [
    "for alg in (logit, sgd, svc, tree, forest, knn, grbc):\n",
    "    bc = BaggingClassifier(base_estimator=alg)\n",
    "    score = cross_val_score(bc, X_tr, y, cv=3, scoring='accuracy', n_jobs=-1).mean()\n",
    "    print(f'{alg.__class__.__name__}: {score}')"
   ]
  },
  {
   "cell_type": "markdown",
   "id": "patent-verification",
   "metadata": {},
   "source": [
    "## Model Tuning"
   ]
  },
  {
   "cell_type": "markdown",
   "id": "surprised-label",
   "metadata": {},
   "source": [
    "### SVC"
   ]
  },
  {
   "cell_type": "code",
   "execution_count": 113,
   "id": "marine-rainbow",
   "metadata": {},
   "outputs": [
    {
     "name": "stdout",
     "output_type": "stream",
     "text": [
      "CPU times: user 335 ms, sys: 4.06 ms, total: 339 ms\n",
      "Wall time: 1.49 s\n"
     ]
    },
    {
     "data": {
      "text/plain": [
       "GridSearchCV(cv=3, estimator=SVC(probability=True, random_state=42), n_jobs=-1,\n",
       "             param_grid={'C': [0.5, 1, 1.5], 'degree': [3],\n",
       "                         'gamma': [0.05, 0.1, 0.15], 'kernel': ['rbf'],\n",
       "                         'shrinking': [True]},\n",
       "             scoring='accuracy')"
      ]
     },
     "execution_count": 113,
     "metadata": {},
     "output_type": "execute_result"
    }
   ],
   "source": [
    "%%time\n",
    "\n",
    "svc = SVC(probability=True, random_state=42)\n",
    "\n",
    "param_grid = {'C': [0.5, 1, 1.5],\n",
    "              'kernel': ['rbf'],\n",
    "              'degree': [3],\n",
    "              'gamma': [0.05, 0.1, 0.15],\n",
    "              'shrinking': [True]}\n",
    "grid_svc = GridSearchCV(svc, param_grid=param_grid, cv=3, scoring='accuracy', n_jobs=-1)\n",
    "grid_svc.fit(X_tr, y)"
   ]
  },
  {
   "cell_type": "code",
   "execution_count": 114,
   "id": "single-baptist",
   "metadata": {},
   "outputs": [
    {
     "data": {
      "text/plain": [
       "0.8305274971941637"
      ]
     },
     "execution_count": 114,
     "metadata": {},
     "output_type": "execute_result"
    }
   ],
   "source": [
    "grid_svc.best_score_"
   ]
  },
  {
   "cell_type": "code",
   "execution_count": 115,
   "id": "pressed-fighter",
   "metadata": {},
   "outputs": [
    {
     "data": {
      "text/plain": [
       "{'C': 1.5, 'degree': 3, 'gamma': 0.15, 'kernel': 'rbf', 'shrinking': True}"
      ]
     },
     "execution_count": 115,
     "metadata": {},
     "output_type": "execute_result"
    }
   ],
   "source": [
    "grid_svc.best_params_"
   ]
  },
  {
   "cell_type": "code",
   "execution_count": 116,
   "id": "specific-teens",
   "metadata": {},
   "outputs": [],
   "source": [
    "svc_tuned = grid_svc.best_estimator_"
   ]
  },
  {
   "cell_type": "code",
   "execution_count": 119,
   "id": "trying-destiny",
   "metadata": {},
   "outputs": [],
   "source": [
    "with open('./models/svc_model.pkl', 'wb') as f:\n",
    "    pickle.dump(svc_tuned, file=f)\n",
    "    f.close()"
   ]
  },
  {
   "cell_type": "markdown",
   "id": "different-weapon",
   "metadata": {},
   "source": [
    "### Logistic Regression"
   ]
  },
  {
   "cell_type": "code",
   "execution_count": 105,
   "id": "explicit-breathing",
   "metadata": {},
   "outputs": [
    {
     "data": {
      "text/plain": [
       "GridSearchCV(cv=3, estimator=LogisticRegression(), n_jobs=-1,\n",
       "             param_grid={'C': [0.0001, 0.001, 0.01, 0.1, 1, 10, 100],\n",
       "                         'penalty': ['l1', 'l2'],\n",
       "                         'solver': ['newton-cg', 'lbfgs', 'liblinear', 'sag',\n",
       "                                    'saga']},\n",
       "             scoring='accuracy')"
      ]
     },
     "execution_count": 105,
     "metadata": {},
     "output_type": "execute_result"
    }
   ],
   "source": [
    "logit = LogisticRegression()\n",
    "param_grid = {'C': [0.0001, 0.001, 0.01, 0.1, 1, 10, 100], \n",
    "              'solver': ['newton-cg', 'lbfgs', 'liblinear', 'sag', 'saga'],\n",
    "              'penalty': ['l1', 'l2']}\n",
    "\n",
    "grid_logit = GridSearchCV(logit, param_grid=param_grid, scoring='accuracy', cv=3, n_jobs=-1)\n",
    "grid_logit.fit(X_tr, y)"
   ]
  },
  {
   "cell_type": "code",
   "execution_count": 106,
   "id": "meaningful-breath",
   "metadata": {},
   "outputs": [
    {
     "data": {
      "text/plain": [
       "0.7957351290684623"
      ]
     },
     "execution_count": 106,
     "metadata": {},
     "output_type": "execute_result"
    }
   ],
   "source": [
    "grid_logit.best_score_"
   ]
  },
  {
   "cell_type": "code",
   "execution_count": 107,
   "id": "balanced-function",
   "metadata": {},
   "outputs": [
    {
     "data": {
      "text/plain": [
       "{'C': 0.01, 'penalty': 'l2', 'solver': 'liblinear'}"
      ]
     },
     "execution_count": 107,
     "metadata": {},
     "output_type": "execute_result"
    }
   ],
   "source": [
    "grid_logit.best_params_"
   ]
  },
  {
   "cell_type": "code",
   "execution_count": 108,
   "id": "manual-drilling",
   "metadata": {},
   "outputs": [],
   "source": [
    "logit_tuned = grid_logit.best_estimator_"
   ]
  },
  {
   "cell_type": "code",
   "execution_count": 122,
   "id": "hindu-allah",
   "metadata": {},
   "outputs": [],
   "source": [
    "with open('./models/logit_model.pkl', 'wb') as f:\n",
    "    pickle.dump(logit_tuned, file=f)\n",
    "    f.close()"
   ]
  },
  {
   "cell_type": "markdown",
   "id": "arbitrary-softball",
   "metadata": {},
   "source": [
    "### RandomForestClassifier"
   ]
  },
  {
   "cell_type": "code",
   "execution_count": 109,
   "id": "remarkable-vietnam",
   "metadata": {},
   "outputs": [
    {
     "name": "stdout",
     "output_type": "stream",
     "text": [
      "CPU times: user 14.8 s, sys: 1.25 s, total: 16 s\n",
      "Wall time: 11min 48s\n"
     ]
    },
    {
     "data": {
      "text/plain": [
       "GridSearchCV(cv=3, estimator=RandomForestClassifier(random_state=42), n_jobs=-1,\n",
       "             param_grid={'bootstrap': [True, False],\n",
       "                         'max_depth': [1, 3, 5, 7, 9],\n",
       "                         'max_features': [3, 4, 8, 14],\n",
       "                         'min_samples_leaf': [1, 2, 3],\n",
       "                         'min_samples_split': [2, 3, 4, 5],\n",
       "                         'n_estimators': [100, 150, 200, 250]},\n",
       "             scoring='accuracy')"
      ]
     },
     "execution_count": 109,
     "metadata": {},
     "output_type": "execute_result"
    }
   ],
   "source": [
    "%%time\n",
    "forest = RandomForestClassifier(random_state=42)\n",
    "\n",
    "param_grid = {'n_estimators': [100, 150, 200, 250],\n",
    "              'max_depth': [1, 3, 5, 7, 9],\n",
    "              'min_samples_split': [2, 3, 4, 5],\n",
    "              'min_samples_leaf': [1, 2, 3],\n",
    "              'max_features': [3, 4, 8, 14], \n",
    "              'bootstrap': [True, False]}\n",
    "\n",
    "grid_forest = GridSearchCV(forest, param_grid=param_grid, cv=3, scoring='accuracy', n_jobs=-1)\n",
    "grid_forest.fit(X_tr, y)"
   ]
  },
  {
   "cell_type": "code",
   "execution_count": 110,
   "id": "danish-savage",
   "metadata": {},
   "outputs": [
    {
     "data": {
      "text/plain": [
       "0.8226711560044894"
      ]
     },
     "execution_count": 110,
     "metadata": {},
     "output_type": "execute_result"
    }
   ],
   "source": [
    "grid_forest.best_score_"
   ]
  },
  {
   "cell_type": "code",
   "execution_count": 111,
   "id": "prospective-phase",
   "metadata": {},
   "outputs": [
    {
     "data": {
      "text/plain": [
       "{'bootstrap': True,\n",
       " 'max_depth': 5,\n",
       " 'max_features': 4,\n",
       " 'min_samples_leaf': 2,\n",
       " 'min_samples_split': 5,\n",
       " 'n_estimators': 100}"
      ]
     },
     "execution_count": 111,
     "metadata": {},
     "output_type": "execute_result"
    }
   ],
   "source": [
    "grid_forest.best_params_"
   ]
  },
  {
   "cell_type": "code",
   "execution_count": 112,
   "id": "willing-stable",
   "metadata": {},
   "outputs": [],
   "source": [
    "forest_tuned = grid_forest.best_estimator_"
   ]
  },
  {
   "cell_type": "code",
   "execution_count": 124,
   "id": "understanding-delaware",
   "metadata": {},
   "outputs": [],
   "source": [
    "with open('./models/forest_model.pkl', 'wb') as f:\n",
    "    pickle.dump(forest_tuned, file=f)\n",
    "    f.close()"
   ]
  },
  {
   "cell_type": "markdown",
   "id": "informative-prime",
   "metadata": {},
   "source": [
    "### KNN"
   ]
  },
  {
   "cell_type": "code",
   "execution_count": 140,
   "id": "congressional-camping",
   "metadata": {},
   "outputs": [
    {
     "name": "stdout",
     "output_type": "stream",
     "text": [
      "Fitting 3 folds for each of 18 candidates, totalling 54 fits\n"
     ]
    },
    {
     "data": {
      "text/plain": [
       "GridSearchCV(cv=3, estimator=KNeighborsClassifier(), n_jobs=-1,\n",
       "             param_grid={'algorithm': ['ball_tree', 'kd_tree', 'brute'],\n",
       "                         'n_neighbors': [11, 13, 15],\n",
       "                         'weights': ['uniform', 'distance']},\n",
       "             scoring='accuracy', verbose=1)"
      ]
     },
     "execution_count": 140,
     "metadata": {},
     "output_type": "execute_result"
    }
   ],
   "source": [
    "knn = KNeighborsClassifier()\n",
    "param_grid = {'n_neighbors': [11, 13, 15],\n",
    "              'weights': ['uniform', 'distance'],\n",
    "              'algorithm': ['ball_tree', 'kd_tree', 'brute']}\n",
    "grid_knn = GridSearchCV(knn, param_grid=param_grid, cv=3, scoring='accuracy', n_jobs=-1, verbose=1)\n",
    "grid_knn.fit(X_tr, y)"
   ]
  },
  {
   "cell_type": "code",
   "execution_count": 141,
   "id": "chicken-kidney",
   "metadata": {},
   "outputs": [
    {
     "data": {
      "text/plain": [
       "0.8103254769921436"
      ]
     },
     "execution_count": 141,
     "metadata": {},
     "output_type": "execute_result"
    }
   ],
   "source": [
    "grid_knn.best_score_"
   ]
  },
  {
   "cell_type": "code",
   "execution_count": 142,
   "id": "interracial-matrix",
   "metadata": {},
   "outputs": [
    {
     "data": {
      "text/plain": [
       "{'algorithm': 'brute', 'n_neighbors': 11, 'weights': 'uniform'}"
      ]
     },
     "execution_count": 142,
     "metadata": {},
     "output_type": "execute_result"
    }
   ],
   "source": [
    "grid_knn.best_params_"
   ]
  },
  {
   "cell_type": "code",
   "execution_count": 143,
   "id": "twenty-match",
   "metadata": {},
   "outputs": [],
   "source": [
    "knn_tuned = grid_knn.best_estimator_"
   ]
  },
  {
   "cell_type": "code",
   "execution_count": 144,
   "id": "ancient-grammar",
   "metadata": {},
   "outputs": [],
   "source": [
    "with open('./models/knn_model.pkl', 'wb') as f:\n",
    "    pickle.dump(obj=knn_tuned, file=f)\n",
    "    f.close()"
   ]
  },
  {
   "cell_type": "markdown",
   "id": "existing-demand",
   "metadata": {},
   "source": [
    "### BaggingClassifier"
   ]
  },
  {
   "cell_type": "code",
   "execution_count": 215,
   "id": "sustainable-advocacy",
   "metadata": {},
   "outputs": [
    {
     "data": {
      "text/plain": [
       "GridSearchCV(cv=3,\n",
       "             estimator=BaggingClassifier(base_estimator=SVC(C=1.5, gamma=0.15,\n",
       "                                                            probability=True,\n",
       "                                                            random_state=42),\n",
       "                                         bootstrap=False, random_state=42),\n",
       "             n_jobs=-1,\n",
       "             param_grid={'max_features': [1.0], 'max_samples': [0.9, 0.8],\n",
       "                         'n_estimators': [30]},\n",
       "             scoring='accuracy')"
      ]
     },
     "execution_count": 215,
     "metadata": {},
     "output_type": "execute_result"
    }
   ],
   "source": [
    "bc = BaggingClassifier(base_estimator=svc_tuned, bootstrap=False, random_state=42)\n",
    "param_grid = {'n_estimators': [30],\n",
    "              'max_samples': [0.9, 0.8],\n",
    "              'max_features': [1.0]}\n",
    "grid_bagging = GridSearchCV(bc, param_grid=param_grid, scoring='accuracy', cv=3, n_jobs=-1)\n",
    "grid_bagging.fit(X_tr, y)"
   ]
  },
  {
   "cell_type": "code",
   "execution_count": 216,
   "id": "sitting-excess",
   "metadata": {},
   "outputs": [
    {
     "data": {
      "text/plain": [
       "0.8316498316498318"
      ]
     },
     "execution_count": 216,
     "metadata": {},
     "output_type": "execute_result"
    }
   ],
   "source": [
    "grid_bagging.best_score_"
   ]
  },
  {
   "cell_type": "code",
   "execution_count": 217,
   "id": "dimensional-christianity",
   "metadata": {},
   "outputs": [
    {
     "data": {
      "text/plain": [
       "{'max_features': 1.0, 'max_samples': 0.8, 'n_estimators': 30}"
      ]
     },
     "execution_count": 217,
     "metadata": {},
     "output_type": "execute_result"
    }
   ],
   "source": [
    "grid_bagging.best_params_"
   ]
  },
  {
   "cell_type": "code",
   "execution_count": 218,
   "id": "korean-quarterly",
   "metadata": {},
   "outputs": [],
   "source": [
    "bagging_tuned = grid_bagging.best_estimator_"
   ]
  },
  {
   "cell_type": "code",
   "execution_count": 219,
   "id": "pointed-silver",
   "metadata": {},
   "outputs": [],
   "source": [
    "with open('./models/bagging_svc_model.pkl', 'wb') as f:\n",
    "    pickle.dump(obj=knn_tuned, file=f)\n",
    "    f.close()"
   ]
  },
  {
   "cell_type": "markdown",
   "id": "comprehensive-character",
   "metadata": {},
   "source": [
    "### Test voting classifier"
   ]
  },
  {
   "cell_type": "code",
   "execution_count": 151,
   "id": "focal-above",
   "metadata": {},
   "outputs": [
    {
     "name": "stderr",
     "output_type": "stream",
     "text": [
      "[Parallel(n_jobs=-1)]: Using backend LokyBackend with 4 concurrent workers.\n",
      "[Parallel(n_jobs=-1)]: Done   3 out of   3 | elapsed:    0.6s finished\n"
     ]
    },
    {
     "data": {
      "text/plain": [
       "0.830527497194164"
      ]
     },
     "execution_count": 151,
     "metadata": {},
     "output_type": "execute_result"
    }
   ],
   "source": [
    "ensemble = VotingClassifier(estimators=[('svc', svc_tuned),\n",
    "                                        ('lgr', logit_tuned),\n",
    "                                        ('frst', forest_tuned),\n",
    "                                        ('knn', knn_tuned)],\n",
    "                            voting='hard')\n",
    "cross_val_score(ensemble, X_tr, y, cv=3, scoring='accuracy', verbose=1, n_jobs=-1).mean()"
   ]
  },
  {
   "cell_type": "code",
   "execution_count": 152,
   "id": "recreational-tokyo",
   "metadata": {},
   "outputs": [
    {
     "data": {
      "text/plain": [
       "VotingClassifier(estimators=[('svc',\n",
       "                              SVC(C=1.5, gamma=0.15, probability=True,\n",
       "                                  random_state=42)),\n",
       "                             ('lgr',\n",
       "                              LogisticRegression(C=0.01, solver='liblinear')),\n",
       "                             ('frst',\n",
       "                              RandomForestClassifier(max_depth=5,\n",
       "                                                     max_features=4,\n",
       "                                                     min_samples_leaf=2,\n",
       "                                                     min_samples_split=5,\n",
       "                                                     random_state=42)),\n",
       "                             ('knn',\n",
       "                              KNeighborsClassifier(algorithm='brute',\n",
       "                                                   n_neighbors=11))])"
      ]
     },
     "execution_count": 152,
     "metadata": {},
     "output_type": "execute_result"
    }
   ],
   "source": [
    "ensemble.fit(X_tr, y)"
   ]
  },
  {
   "cell_type": "code",
   "execution_count": 155,
   "id": "remarkable-grass",
   "metadata": {},
   "outputs": [],
   "source": [
    "pred_test = ensemble.predict(X_test_tr)"
   ]
  },
  {
   "cell_type": "code",
   "execution_count": 158,
   "id": "eastern-bible",
   "metadata": {},
   "outputs": [],
   "source": [
    "save_solution(X_test, pred_test, sol_num=10)"
   ]
  }
 ],
 "metadata": {
  "kernelspec": {
   "display_name": "Python 3",
   "language": "python",
   "name": "python3"
  },
  "language_info": {
   "codemirror_mode": {
    "name": "ipython",
    "version": 3
   },
   "file_extension": ".py",
   "mimetype": "text/x-python",
   "name": "python",
   "nbconvert_exporter": "python",
   "pygments_lexer": "ipython3",
   "version": "3.8.5"
  }
 },
 "nbformat": 4,
 "nbformat_minor": 5
}
