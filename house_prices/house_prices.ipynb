{
 "cells": [
  {
   "cell_type": "code",
   "execution_count": 85,
   "id": "irish-hartford",
   "metadata": {},
   "outputs": [],
   "source": [
    "import numpy as np\n",
    "import pandas as pd\n",
    "pd.set_option('display.max_columns', 100)\n",
    "\n",
    "import matplotlib.pyplot as plt\n",
    "import seaborn as sns\n",
    "sns.set_style('whitegrid')\n",
    "\n",
    "import warnings\n",
    "warnings.filterwarnings('ignore')\n",
    "\n",
    "from tqdm import tqdm"
   ]
  },
  {
   "cell_type": "code",
   "execution_count": 156,
   "id": "civil-sherman",
   "metadata": {},
   "outputs": [],
   "source": [
    "from sklearn.base import BaseEstimator, TransformerMixin\n",
    "from sklearn.pipeline import Pipeline\n",
    "from sklearn.compose import ColumnTransformer\n",
    "from sklearn.preprocessing import OneHotEncoder, StandardScaler\n",
    "from sklearn.impute import SimpleImputer"
   ]
  },
  {
   "cell_type": "code",
   "execution_count": 53,
   "id": "innovative-nicaragua",
   "metadata": {},
   "outputs": [],
   "source": [
    "from sklearn.linear_model import ElasticNet, Lasso\n",
    "from sklearn.svm import SVR\n",
    "from sklearn.ensemble import RandomForestRegressor\n",
    "\n",
    "from sklearn.model_selection import cross_val_score, GridSearchCV"
   ]
  },
  {
   "cell_type": "code",
   "execution_count": 3,
   "id": "minus-stockholm",
   "metadata": {},
   "outputs": [],
   "source": [
    "def create_dict_of_features():\n",
    "    \"\"\"\n",
    "    Create dictionary with explanation of all attributes.\n",
    "    \n",
    "    Return\n",
    "        dictionary with features from data_description.txt file.\n",
    "    \"\"\"\n",
    "    features = dict()\n",
    "    with open('./data_description.txt', 'r') as file:\n",
    "        for line in file.readlines():\n",
    "            if (line[0] not in [' ', '\\t']) and (len(line) > 10):\n",
    "                line = line.split(':')\n",
    "                features[line[0]] = line[1].strip('\\t\\n').lstrip()\n",
    "        file.close()\n",
    "    return features\n",
    "\n",
    "features = create_dict_of_features()"
   ]
  },
  {
   "cell_type": "code",
   "execution_count": 4,
   "id": "dying-satisfaction",
   "metadata": {},
   "outputs": [],
   "source": [
    "def feature_info(feature_name, plots=True):\n",
    "    \"\"\"\n",
    "    Get an explanation of feature.\n",
    "    \n",
    "    Parameters\n",
    "        feature_name: str\n",
    "            Name of feature from housing price dataset\n",
    "        \n",
    "        plots: bool, default - True\n",
    "            Draw plots with choosen feature.\n",
    "    \"\"\"\n",
    "    if (feature_name in features.keys()):\n",
    "        \n",
    "        feature_type = houses[feature_name].dtype\n",
    "        \n",
    "        print(features[feature_name])\n",
    "        print('   Feature statistics: ')\n",
    "        \n",
    "        if feature_type == 'object':\n",
    "            print(houses[feature_name].describe(include='object'))\n",
    "        else:\n",
    "            print(houses[feature_name].describe())\n",
    "            \n",
    "            print('\\nCorreleation: ')\n",
    "            print(houses[[feature_name, 'SalePrice']].corr())\n",
    "    else:\n",
    "        print('There is no such a feature.')"
   ]
  },
  {
   "cell_type": "code",
   "execution_count": 5,
   "id": "inclusive-sensitivity",
   "metadata": {},
   "outputs": [],
   "source": [
    "def check_amount_of_na(ds, percent_of_nan = 40):\n",
    "    nan = houses.isna().sum() / houses.shape[0] * 100\n",
    "    return nan[nan > percent_of_nan].sort_values(ascending=False)"
   ]
  },
  {
   "cell_type": "code",
   "execution_count": 89,
   "id": "organized-shopper",
   "metadata": {},
   "outputs": [],
   "source": [
    "def plot_initial_vs_new(df, feature_name, function_to_transform=np.log):   \n",
    "    \"\"\"\n",
    "    Plots numerical features.\n",
    "    \n",
    "    Parameters\n",
    "        df: pandas DataFrame\n",
    "            Pandas DataFrame\n",
    "        \n",
    "        feature_name: str\n",
    "            Name of feature for plotting.\n",
    "            \n",
    "        function_to_transform: object, default = np.log\n",
    "            This one is a function in which initial feature should be transformed\n",
    "    \"\"\"\n",
    "    fig, ax = plt.subplots(1, 2, figsize=(8, 3))\n",
    "    \n",
    "    sns.histplot(df[feature_name], ax=ax[0], kde=True)\n",
    "    ax[0].set_title('original')\n",
    "\n",
    "    sns.histplot(df[feature_name].apply(function_to_transform), ax=ax[1], kde=True)\n",
    "    ax[1].set_title('new')\n",
    "    plt.tight_layout()\n",
    "    plt.show();"
   ]
  },
  {
   "cell_type": "code",
   "execution_count": 58,
   "id": "married-arctic",
   "metadata": {},
   "outputs": [],
   "source": [
    "# export train and test datasets\n",
    "houses = pd.read_csv('./train.csv')\n",
    "houses_test = pd.read_csv('./test.csv')"
   ]
  },
  {
   "cell_type": "code",
   "execution_count": 81,
   "id": "floppy-platinum",
   "metadata": {},
   "outputs": [
    {
     "data": {
      "text/plain": [
       "PoolQC          99.520548\n",
       "MiscFeature     96.301370\n",
       "Alley           93.767123\n",
       "Fence           80.753425\n",
       "FireplaceQu     47.260274\n",
       "LotFrontage     17.739726\n",
       "GarageType       5.547945\n",
       "GarageYrBlt      5.547945\n",
       "GarageFinish     5.547945\n",
       "GarageQual       5.547945\n",
       "GarageCond       5.547945\n",
       "BsmtExposure     2.602740\n",
       "BsmtFinType2     2.602740\n",
       "BsmtFinType1     2.534247\n",
       "BsmtCond         2.534247\n",
       "BsmtQual         2.534247\n",
       "MasVnrArea       0.547945\n",
       "MasVnrType       0.547945\n",
       "Electrical       0.068493\n",
       "dtype: float64"
      ]
     },
     "execution_count": 81,
     "metadata": {},
     "output_type": "execute_result"
    }
   ],
   "source": [
    "# check an amount of NaN values in houses dataset\n",
    "check_amount_of_na(houses, percent_of_nan=0)"
   ]
  },
  {
   "cell_type": "code",
   "execution_count": 132,
   "id": "revolutionary-joseph",
   "metadata": {},
   "outputs": [],
   "source": [
    "# split houses dataset into training features and targets\n",
    "X = houses.drop(['Id', 'SalePrice', 'PoolQC', 'MiscFeature', 'Alley', 'Fence', 'FireplaceQu'], axis=1)\n",
    "y = houses['SalePrice']"
   ]
  },
  {
   "cell_type": "code",
   "execution_count": 133,
   "id": "piano-cyprus",
   "metadata": {},
   "outputs": [],
   "source": [
    "# map quality categorical features to numeric\n",
    "features = ['ExterQual', 'ExterCond', 'BsmtQual',\n",
    "            'BsmtCond', 'HeatingQC', 'KitchenQual',\n",
    "            'GarageQual', 'GarageCond']\n",
    "qual_dict = {'Ex': 5, 'Gd': 4, 'TA': 3,\n",
    "             'Fa': 2, 'Po': 1, 'NA': 0}\n",
    "for feature in features:\n",
    "    X[feature] = X[feature].map(qual_dict)"
   ]
  },
  {
   "cell_type": "code",
   "execution_count": 192,
   "id": "sunset-confirmation",
   "metadata": {},
   "outputs": [],
   "source": [
    "# split training set into categorical and numerical features\n",
    "X_cat = X.select_dtypes(include='object')\n",
    "X_cat['MSSubClass'] = X['MSSubClass'].values\n",
    "X_num = X.select_dtypes(exclude='object').drop('MSSubClass', axis=1)"
   ]
  },
  {
   "cell_type": "code",
   "execution_count": 193,
   "id": "brief-sarah",
   "metadata": {},
   "outputs": [],
   "source": [
    "num_cols_with_na = X_num.isna().sum().sort_values(ascending=False)\n",
    "num_cols_with_na = num_cols_with_na.index[num_cols_with_na!=0]"
   ]
  },
  {
   "cell_type": "code",
   "execution_count": 194,
   "id": "creative-devon",
   "metadata": {},
   "outputs": [],
   "source": [
    "cat_cols_with_na = X_cat.isna().sum().sort_values(ascending=False)\n",
    "cat_cols_with_na = cat_cols_with_na.index[cat_cols_with_na!=0]"
   ]
  },
  {
   "cell_type": "code",
   "execution_count": 195,
   "id": "about-convention",
   "metadata": {},
   "outputs": [],
   "source": [
    "num_cols_ixs = X_num.columns.get_indexer_for(num_cols_with_na).tolist()\n",
    "cat_cols_ixs = X_cat.columns.get_indexer_for(cat_cols_with_na).tolist()"
   ]
  },
  {
   "cell_type": "code",
   "execution_count": 196,
   "id": "balanced-seeking",
   "metadata": {},
   "outputs": [],
   "source": [
    "num_filler = ColumnTransformer(transformers=[('filler', SimpleImputer(strategy='median'), num_cols_ixs)],\n",
    "                               remainder='passthrough')\n",
    "cat_filler = ColumnTransformer(transformers=[('filler', SimpleImputer(strategy='most_frequent'), cat_cols_ixs)],\n",
    "                               remainder='passthrough')"
   ]
  },
  {
   "cell_type": "code",
   "execution_count": 197,
   "id": "considered-bottom",
   "metadata": {},
   "outputs": [],
   "source": [
    "pipeline_num = Pipeline([('num_fill', num_filler),\n",
    "                         ('scaler', StandardScaler())])\n",
    "pipeline_cat = Pipeline([('cat_fill', cat_filler),\n",
    "                         ('encoder', OneHotEncoder(sparse=False))])"
   ]
  },
  {
   "cell_type": "code",
   "execution_count": 198,
   "id": "victorian-conflict",
   "metadata": {},
   "outputs": [],
   "source": [
    "X_num = pipeline_num.fit_transform(X_num)\n",
    "X_cat = pipeline_cat.fit_transform(X_cat)"
   ]
  },
  {
   "cell_type": "code",
   "execution_count": 202,
   "id": "confirmed-string",
   "metadata": {},
   "outputs": [],
   "source": [
    "X_tr = np.concatenate((X_num, X_cat), axis=1)"
   ]
  },
  {
   "cell_type": "code",
   "execution_count": 182,
   "id": "abstract-tension",
   "metadata": {},
   "outputs": [],
   "source": [
    "# lists of features for conversion \n",
    "features_40NaN = ['PoolQC', 'MiscFeature', 'Alley', 'Fence', 'FireplaceQu']\n",
    "# features_to_logarithm = ['LotFrontage', 'LotArea', '1stFlrSF', 'GrLivArea']\n",
    "# features_to_sqrt = ['TotalBsmtSF', '2ndFlrSF', 'WoodDeckSF', 'OpenPorchSF']"
   ]
  },
  {
   "cell_type": "code",
   "execution_count": 208,
   "id": "toxic-comparative",
   "metadata": {},
   "outputs": [
    {
     "name": "stderr",
     "output_type": "stream",
     "text": [
      "[Parallel(n_jobs=-1)]: Using backend LokyBackend with 4 concurrent workers.\n",
      "[Parallel(n_jobs=-1)]: Done   5 out of   5 | elapsed:    2.3s finished\n"
     ]
    },
    {
     "data": {
      "text/plain": [
       "81117.73912499049"
      ]
     },
     "execution_count": 208,
     "metadata": {},
     "output_type": "execute_result"
    }
   ],
   "source": [
    "svr = SVR()\n",
    "-cross_val_score(svr, X_tr, y, scoring='neg_root_mean_squared_error', cv=5, n_jobs=-1, verbose=1).mean()"
   ]
  },
  {
   "cell_type": "code",
   "execution_count": 209,
   "id": "intellectual-screw",
   "metadata": {},
   "outputs": [
    {
     "name": "stderr",
     "output_type": "stream",
     "text": [
      "[Parallel(n_jobs=-1)]: Using backend LokyBackend with 4 concurrent workers.\n",
      "[Parallel(n_jobs=-1)]: Done   5 out of   5 | elapsed:    2.1s finished\n"
     ]
    },
    {
     "data": {
      "text/plain": [
       "34485.73755637911"
      ]
     },
     "execution_count": 209,
     "metadata": {},
     "output_type": "execute_result"
    }
   ],
   "source": [
    "lasso = Lasso()\n",
    "-cross_val_score(lasso, X_tr, y, scoring='neg_root_mean_squared_error', cv=5, n_jobs=-1, verbose=1).mean()"
   ]
  },
  {
   "cell_type": "code",
   "execution_count": 211,
   "id": "neither-steering",
   "metadata": {},
   "outputs": [
    {
     "name": "stderr",
     "output_type": "stream",
     "text": [
      "[Parallel(n_jobs=-1)]: Using backend LokyBackend with 4 concurrent workers.\n",
      "[Parallel(n_jobs=-1)]: Done   5 out of   5 | elapsed:    9.4s finished\n"
     ]
    },
    {
     "data": {
      "text/plain": [
       "30000.193005167705"
      ]
     },
     "execution_count": 211,
     "metadata": {},
     "output_type": "execute_result"
    }
   ],
   "source": [
    "forest = RandomForestRegressor()\n",
    "-cross_val_score(forest, X_tr, y, scoring='neg_root_mean_squared_error', cv=5, n_jobs=-1, verbose=1).mean()"
   ]
  }
 ],
 "metadata": {
  "kernelspec": {
   "display_name": "Python 3",
   "language": "python",
   "name": "python3"
  },
  "language_info": {
   "codemirror_mode": {
    "name": "ipython",
    "version": 3
   },
   "file_extension": ".py",
   "mimetype": "text/x-python",
   "name": "python",
   "nbconvert_exporter": "python",
   "pygments_lexer": "ipython3",
   "version": "3.8.5"
  }
 },
 "nbformat": 4,
 "nbformat_minor": 5
}
